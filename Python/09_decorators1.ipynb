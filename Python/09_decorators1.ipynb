{
 "cells": [
  {
   "cell_type": "markdown",
   "metadata": {},
   "source": [
    "# Decorators"
   ]
  },
  {
   "cell_type": "markdown",
   "metadata": {},
   "source": [
    "- Nhớ lại bài học trước [07_functions](https://github.com/KysuKysu/Python4Everyone/blob/main/Python/07_functions.ipynb), function (hàm) cho phép chúng ta mô-đun hóa code và sử dụng lại chúng. \n",
    "- Tuy nhiên, chúng ta thường muốn thêm một số chức năng trước hoặc sau khi hàm main() được thực thi, chúng ta còn muốn làm điều này cho nhiều chức năng khác nhau.\n",
    "- Thay vì code thêm hàm đã được hoàn thiện, chúng ta có thể sử dụng **decorators**! \n",
    "\n",
    "\n",
    "- **Decorator**: là một hàm nhận tham số đầu vào là một hàm khác và mở rộng tính năng cho hàm đó mà không thay đổi nội dung của chúng."
   ]
  },
  {
   "cell_type": "markdown",
   "metadata": {},
   "source": [
    "Giả sử chúng ta có một hàm `operations()` có chức năng tăng giá trị đầu vào x lên 1."
   ]
  },
  {
   "cell_type": "code",
   "execution_count": 1,
   "metadata": {},
   "outputs": [],
   "source": [
    "def operations(x):\n",
    "    \"\"\"Basic operations.\"\"\"\n",
    "    x += 1\n",
    "    return x"
   ]
  },
  {
   "cell_type": "code",
   "execution_count": 2,
   "metadata": {},
   "outputs": [
    {
     "data": {
      "text/plain": [
       "2"
      ]
     },
     "execution_count": 2,
     "metadata": {},
     "output_type": "execute_result"
    }
   ],
   "source": [
    "operations(x=1)"
   ]
  },
  {
   "cell_type": "markdown",
   "metadata": {},
   "source": [
    "- Bây giờ, giả sử chúng ta muốn tăng đầu vào x lên 1 trước và sau khi hàm `operations()` thực thi.\n",
    "- Để minh họa ví dụ này, giả sử các bước tăng là các bước riêng biệt. Đây là cách chúng ta sẽ thực hiện bằng cách thay đổi code đã được hoàn thiệt trước đó:"
   ]
  },
  {
   "cell_type": "code",
   "execution_count": 3,
   "metadata": {},
   "outputs": [],
   "source": [
    "def operations(x):\n",
    "    \"\"\"Basic operations.\"\"\"\n",
    "    x += 1\n",
    "    x += 1\n",
    "    x += 1\n",
    "    return x"
   ]
  },
  {
   "cell_type": "code",
   "execution_count": 4,
   "metadata": {},
   "outputs": [
    {
     "data": {
      "text/plain": [
       "4"
      ]
     },
     "execution_count": 4,
     "metadata": {},
     "output_type": "execute_result"
    }
   ],
   "source": [
    "operations(x=1)"
   ]
  },
  {
   "cell_type": "markdown",
   "metadata": {},
   "source": [
    "- Như ví dụ ở trên, chúng ta đã có thể đạt được những gì mình muốn. \n",
    "- Nhưng bây giờ chúng ta tăng kích thước của functions `operations()` và nếu chúng ta muốn thực hiện tương tự là + 1 cho bất kỳ chức năng khác, chúng ta cũng phải thêm cùng một đoạn code cho tất cả những việc trùng lặp như thế... có vẻ như không hiệu quả lắm.\n",
    "\n",
    "- Để giải quyết vấn đề này, chúng ta hãy tạo một `decorator` được gọi là `add` sẽ tăng x lên 1 trước và sau khi hàm `f` thực thi."
   ]
  },
  {
   "cell_type": "markdown",
   "metadata": {},
   "source": [
    "## Creating a decorator"
   ]
  },
  {
   "cell_type": "markdown",
   "metadata": {},
   "source": [
    "- **Decorator** function cho phép một hàm `f` là hàm mà chúng ta muốn lồng vào nhau, trong trường hợp của chúng ta là hàm `operations()`.\n",
    "- Đầu ra của `decorator` là hàm `wrapper` của nó, hàm này nhận các đối số *args (arguments) và **kwargs (keyword arguments) truyền vào hàm `f`."
   ]
  },
  {
   "cell_type": "markdown",
   "metadata": {},
   "source": [
    "Bên trong hàm `wrapper`, chúng ta có thể:\n",
    "1. Extract các tham số đầu vào được truyền cho hàm `f`\n",
    "2. Thực hiện các thay đổi mà chúng ta muốn đối với các đối số đầu vào.\n",
    "3. Thực thi hàm `f`.\n",
    "4. Thay đổi output của hàm.\n",
    "5. Hàm `wrapper` trả về các giá trị, đó cũng là giá trị mà `decorator ` trả về khi `wrapper` trả về."
   ]
  },
  {
   "cell_type": "code",
   "execution_count": 6,
   "metadata": {},
   "outputs": [],
   "source": [
    "# Decorator\n",
    "def add(f):\n",
    "    def wrapper(*args, **kwargs):\n",
    "        \"\"\"Wrapper function for @add.\"\"\"\n",
    "        x = kwargs.pop('x') # .get() nếu x không thay đổi\n",
    "        x += 1 # thực thi trước hàm f\n",
    "        x = f(*args, **kwargs, x=x)\n",
    "        x += 1 # thực thi sau hàm f\n",
    "        return x\n",
    "    return wrapper"
   ]
  },
  {
   "cell_type": "markdown",
   "metadata": {},
   "source": [
    "Chúng ta có thể sử dụng `decorator` bằng cách thêm @`<decorator>` khi bắt đầu khai báo function."
   ]
  },
  {
   "cell_type": "code",
   "execution_count": 7,
   "metadata": {},
   "outputs": [],
   "source": [
    "@add\n",
    "def operations(x):\n",
    "    \"\"\"Basic operations.\"\"\"\n",
    "    x += 1\n",
    "    return x"
   ]
  },
  {
   "cell_type": "code",
   "execution_count": 8,
   "metadata": {},
   "outputs": [
    {
     "data": {
      "text/plain": [
       "4"
      ]
     },
     "execution_count": 8,
     "metadata": {},
     "output_type": "execute_result"
    }
   ],
   "source": [
    "operations(x=1)"
   ]
  },
  {
   "cell_type": "markdown",
   "metadata": {},
   "source": [
    "Nếu chúng ta muốn `debug` và xem hàm nào thực sự được thực thi với `operations()`."
   ]
  },
  {
   "cell_type": "code",
   "execution_count": 9,
   "metadata": {},
   "outputs": [
    {
     "data": {
      "text/plain": [
       "('wrapper', 'Wrapper function for @add.')"
      ]
     },
     "execution_count": 9,
     "metadata": {},
     "output_type": "execute_result"
    }
   ],
   "source": [
    "operations.__name__, operations.__doc__"
   ]
  },
  {
   "cell_type": "markdown",
   "metadata": {},
   "source": [
    "Tên hàm và docstring không phải là những gì chúng ta đang tìm kiếm, nhưng nó xuất hiện theo cách này vì hàm `wrapper` là những gì đã được thực hiện. Để khắc phục điều này, Python cung cấp `functools.wraps` mang theo metadata của function."
   ]
  },
  {
   "cell_type": "code",
   "execution_count": 10,
   "metadata": {},
   "outputs": [],
   "source": [
    "from functools import wraps\n",
    "\n",
    "# Decorator\n",
    "def add(f):\n",
    "    @wraps(f)\n",
    "    def wrap(*args, **kwargs):\n",
    "        \"\"\"Wrapper function for @add.\"\"\"\n",
    "        x = kwargs.pop('x')\n",
    "        x += 1\n",
    "        x = f(*args, **kwargs, x=x)\n",
    "        x += 1\n",
    "        return x\n",
    "    return wrap\n",
    "\n",
    "@add\n",
    "def operations(x):\n",
    "    \"\"\"Basic operations.\"\"\"\n",
    "    x += 1\n",
    "    return x"
   ]
  },
  {
   "cell_type": "code",
   "execution_count": 11,
   "metadata": {},
   "outputs": [
    {
     "data": {
      "text/plain": [
       "('operations', 'Basic operations.')"
      ]
     },
     "execution_count": 11,
     "metadata": {},
     "output_type": "execute_result"
    }
   ],
   "source": [
    "operations.__name__, operations.__doc__"
   ]
  },
  {
   "cell_type": "markdown",
   "metadata": {},
   "source": [
    "Vậy là chúng ta đã có thể `decorate` function `operation()` để thay đổi nội dung code bên trong hàm, mà không cần chỉnh sửa code bên trong hàm."
   ]
  },
  {
   "cell_type": "markdown",
   "metadata": {},
   "source": [
    "`Decorators` cho phép thực hiện các hoạt động tùy chỉnh trước và sau khi thực thi chức năng chính nhưng ở giữa thì sao? Bài [10_decorators2](https://github.com/KysuKysu/Python4Everyone/blob/main/Python) sẽ giải quyết vấn đề này.\n",
    "![](./img/decorators.png)"
   ]
  }
 ],
 "metadata": {
  "kernelspec": {
   "display_name": "Python 3.8.2 32-bit",
   "language": "python",
   "name": "python38232bitd4b20f8fdfce4e079a1c6c2e2ad60f27"
  },
  "language_info": {
   "codemirror_mode": {
    "name": "ipython",
    "version": 3
   },
   "file_extension": ".py",
   "mimetype": "text/x-python",
   "name": "python",
   "nbconvert_exporter": "python",
   "pygments_lexer": "ipython3",
   "version": "3.8.2"
  }
 },
 "nbformat": 4,
 "nbformat_minor": 4
}
