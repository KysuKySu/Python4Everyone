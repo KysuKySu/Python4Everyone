{
 "cells": [
  {
   "cell_type": "markdown",
   "metadata": {},
   "source": [
    "# Classes"
   ]
  },
  {
   "cell_type": "markdown",
   "metadata": {},
   "source": [
    "- Python là một ngôn ngữ lập trình **hướng đối tượng**.\n",
    "- Hầu hết mọi thứ trong Python đều là một `đối tượng`, với các `thuộc tính` và `phương thức` của nó.\n",
    "- Một `class` giống như một phương thức `khởi tạo đối tượng`, hoặc một `bản thiết kế` để tạo các đối tượng.\n"
   ]
  },
  {
   "cell_type": "markdown",
   "metadata": {},
   "source": [
    "## Table of Contents\n",
    "1. [Magic functions](#Magic-functions)\n",
    "2. [Object functions](#Object-functions)\n",
    "3. [Inheritance](#Inheritance)\n",
    "4. [Methods](#Methods)"
   ]
  },
  {
   "cell_type": "markdown",
   "metadata": {},
   "source": [
    "## Magic functions"
   ]
  },
  {
   "cell_type": "markdown",
   "metadata": {},
   "source": [
    "- Hàm (phương thức) `magic` được đặt tên có hai dấu gạch dưới tiền tố và hậu tố trong tên phương thức như `__init__` và `__str__` ...\n",
    "- Các phương thức `magic` được diễn ra trong nội bộ của lớp, được sử dụng như một hành động nhất định. \n",
    "    - Ví dụ: khi ta cộng hai số bằng toán tử +, trong nội bộ, phương thức `__add __ ()` sẽ được gọi.\n",
    "    \n",
    "    \n",
    "Hàm `__init__` được sử dụng khi lớp được khởi tạo."
   ]
  },
  {
   "cell_type": "code",
   "execution_count": 2,
   "metadata": {},
   "outputs": [],
   "source": [
    "# Tạo 1 class\n",
    "class Pet(object):\n",
    "    \"\"\"Class object for a pet.\"\"\"\n",
    "\n",
    "    def __init__(self, species, name):\n",
    "        \"\"\"Initialize a Pet.\"\"\"\n",
    "        self.species = species\n",
    "        self.name = name\n"
   ]
  },
  {
   "cell_type": "code",
   "execution_count": 3,
   "metadata": {},
   "outputs": [
    {
     "name": "stdout",
     "output_type": "stream",
     "text": [
      "<__main__.Pet object at 0x056F1328>\n",
      "Scooby\n"
     ]
    }
   ],
   "source": [
    "# Tạo một đối tượng từ class Pet\n",
    "my_dog = Pet(species=\"dog\",\n",
    "             name=\"Scooby\")\n",
    "print (my_dog)\n",
    "print (my_dog.name)"
   ]
  },
  {
   "cell_type": "markdown",
   "metadata": {},
   "source": [
    "- Lệnh `print (my_dog)` đã in ra thứ gì đó không được rõ ràng. Hãy khắc phục điều đó bằng hàm `__str__`."
   ]
  },
  {
   "cell_type": "code",
   "execution_count": 4,
   "metadata": {},
   "outputs": [],
   "source": [
    "# Tạo 1 lớp\n",
    "class Pet(object):\n",
    "    \"\"\"Class object for a pet.\"\"\"\n",
    "\n",
    "    def __init__(self, species, name):\n",
    "        \"\"\"Initialize a Pet.\"\"\"\n",
    "        self.species = species\n",
    "        self.name = name\n",
    "\n",
    "    def __str__(self):\n",
    "        \"\"\"Output when printing an instance of a Pet.\"\"\"\n",
    "        return f\"{self.species} named {self.name}\""
   ]
  },
  {
   "cell_type": "code",
   "execution_count": 5,
   "metadata": {},
   "outputs": [
    {
     "name": "stdout",
     "output_type": "stream",
     "text": [
      "dog named Scooby\n",
      "Scooby\n"
     ]
    }
   ],
   "source": [
    "# Tạo một đối tượng từ class Pet\n",
    "my_dog = Pet(species=\"dog\",\n",
    "             name=\"Scooby\")\n",
    "print (my_dog)\n",
    "print (my_dog.name)"
   ]
  },
  {
   "cell_type": "markdown",
   "metadata": {},
   "source": [
    "**Note**\n",
    "- Chúng ta sẽ cùng khám phá các `magic functions` trong các phần tiếp theo (như __len__, __iter__ và __getitem__, v.v.). "
   ]
  },
  {
   "cell_type": "markdown",
   "metadata": {},
   "source": [
    "## Object functions"
   ]
  },
  {
   "cell_type": "markdown",
   "metadata": {},
   "source": [
    "- Bên cạnh các `magic functions`, class còn có các hàm đối tượng."
   ]
  },
  {
   "cell_type": "code",
   "execution_count": 6,
   "metadata": {},
   "outputs": [],
   "source": [
    "# Tạo 1 class\n",
    "class Pet(object):\n",
    "    \"\"\"Class object for a pet.\"\"\"\n",
    "\n",
    "    def __init__(self, species, name):\n",
    "        \"\"\"Initialize a Pet.\"\"\"\n",
    "        self.species = species\n",
    "        self.name = name\n",
    "\n",
    "    def __str__(self):\n",
    "        \"\"\"Output when printing an instance of a Pet.\"\"\"\n",
    "        return f\"{self.species} named {self.name}\"\n",
    "\n",
    "    def change_name(self, new_name):\n",
    "        \"\"\"Change the name of your Pet.\"\"\"\n",
    "        self.name = new_name"
   ]
  },
  {
   "cell_type": "code",
   "execution_count": 7,
   "metadata": {},
   "outputs": [
    {
     "name": "stdout",
     "output_type": "stream",
     "text": [
      "dog named Scooby\n",
      "Scooby\n"
     ]
    }
   ],
   "source": [
    "# Tạo một đối tượng từ class Pet\n",
    "my_dog = Pet(species=\"dog\", name=\"Scooby\")\n",
    "print (my_dog)\n",
    "print (my_dog.name)"
   ]
  },
  {
   "cell_type": "code",
   "execution_count": 8,
   "metadata": {},
   "outputs": [
    {
     "name": "stdout",
     "output_type": "stream",
     "text": [
      "dog named Scrappy\n",
      "Scrappy\n"
     ]
    }
   ],
   "source": [
    "# Thay đổi name bằng \"Object functions\"\n",
    "my_dog.change_name(new_name=\"Scrappy\")\n",
    "print (my_dog)\n",
    "print (my_dog.name)"
   ]
  },
  {
   "cell_type": "markdown",
   "metadata": {},
   "source": [
    "## Inheritance"
   ]
  },
  {
   "cell_type": "markdown",
   "metadata": {},
   "source": [
    "- Chúng ta cũng có thể xây dựng các class chồng lên nhau bằng cách sử dụng kế thừa (Inheritance)\n",
    "- Inheritance cho phép chúng ta kế thừa tất cả các `thuộc tính` và `phương thức` từ một lớp khác (lớp cha)."
   ]
  },
  {
   "cell_type": "code",
   "execution_count": 9,
   "metadata": {},
   "outputs": [],
   "source": [
    "class Dog(Pet):\n",
    "    def __init__(self, species, name, breed):\n",
    "        super().__init__(\"dog\", name)\n",
    "        self.breed = breed\n",
    "\n",
    "    def __str__(self):\n",
    "        return f\"{self.breed} named {self.name}\""
   ]
  },
  {
   "cell_type": "code",
   "execution_count": 10,
   "metadata": {},
   "outputs": [
    {
     "name": "stdout",
     "output_type": "stream",
     "text": [
      "Great Dane named Scooby\n"
     ]
    }
   ],
   "source": [
    "# Tạo 1 object từ class Dog\n",
    "scooby = Dog(species=\"dog\", breed=\"Great Dane\", name=\"Scooby\")\n",
    "print (scooby)"
   ]
  },
  {
   "cell_type": "code",
   "execution_count": 11,
   "metadata": {},
   "outputs": [
    {
     "name": "stdout",
     "output_type": "stream",
     "text": [
      "Great Dane named Scooby Doo\n"
     ]
    }
   ],
   "source": [
    "# Dù class Dog không được khởi tạo hàm \"change_name\", nhưng class cha (Pet) thì có, nên ta vẫn sử dụng được.\n",
    "scooby.change_name('Scooby Doo')\n",
    "print (scooby)"
   ]
  },
  {
   "cell_type": "markdown",
   "metadata": {},
   "source": [
    "**Lưu ý** \n",
    "- Chúng ta kế thừa các biến được khởi tạo từ class Pet như species và name. Chúng ta cũng kế thừa hàm change_name. \n",
    "- Nhưng đối với hàm `__str__`, chúng ta định nghĩa lại để ghi đè lên hàm Pet __str__. \n",
    "- Tương tự, chúng ta cũng có thể ghi đè lên bất kỳ object functions nào."
   ]
  },
  {
   "cell_type": "markdown",
   "metadata": {},
   "source": [
    "## Methods"
   ]
  },
  {
   "cell_type": "markdown",
   "metadata": {},
   "source": [
    "- Có hai `decorator methods` quan trọng cần biết khi nói đến các lớp: `@classmethod` và `@staticmethod`. \n",
    "- Chúng ta sẽ tìm hiểu về **decorator** trong bài tiếp theo sau bài này, nhưng các phương thức này liên quan đến class nên chúng ta cũng sẽ đề cập đến chúng ở đây."
   ]
  },
  {
   "cell_type": "code",
   "execution_count": 12,
   "metadata": {},
   "outputs": [],
   "source": [
    "class Dog(Pet):\n",
    "    def __init__(self, name, breed):\n",
    "        super().__init__(species=\"dog\", name=name)\n",
    "        self.breed = breed\n",
    "\n",
    "    def __str__(self):\n",
    "        return f\"{self.breed} named {self.name}\"\n",
    "\n",
    "    @classmethod\n",
    "    def from_dict(cls, d):\n",
    "        return cls(name=d[\"name\"], breed=d[\"breed\"])\n",
    "\n",
    "    @staticmethod\n",
    "    def is_cute(breed):\n",
    "        return True  # all animaals are cute!"
   ]
  },
  {
   "cell_type": "markdown",
   "metadata": {},
   "source": [
    "- `@Classmethod` cho phép chúng ta tạo instance của class bằng cách truyền vào chính lớp chưa được khai báo (`cls`). Đây là một cách tuyệt vời để tạo (hoặc load) các class từ các object (ví dụ: dictionaries)."
   ]
  },
  {
   "cell_type": "code",
   "execution_count": 13,
   "metadata": {},
   "outputs": [
    {
     "name": "stdout",
     "output_type": "stream",
     "text": [
      "Border Collie named Cassie\n"
     ]
    }
   ],
   "source": [
    "# Create instance\n",
    "d = {\"name\": \"Cassie\", \"breed\": \"Border Collie\"}\n",
    "cassie = Dog.from_dict(d=d)\n",
    "print(cassie)"
   ]
  },
  {
   "cell_type": "markdown",
   "metadata": {},
   "source": [
    " - `@staticmethod` có thể được gọi từ một class object chưa được khai báo."
   ]
  },
  {
   "cell_type": "code",
   "execution_count": 14,
   "metadata": {},
   "outputs": [
    {
     "data": {
      "text/plain": [
       "True"
      ]
     },
     "execution_count": 14,
     "metadata": {},
     "output_type": "execute_result"
    }
   ],
   "source": [
    "# Static method\n",
    "Dog.is_cute(breed=\"Border Collie\")"
   ]
  }
 ],
 "metadata": {
  "kernelspec": {
   "display_name": "Python 3.8.2 32-bit",
   "language": "python",
   "name": "python38232bitd4b20f8fdfce4e079a1c6c2e2ad60f27"
  },
  "language_info": {
   "codemirror_mode": {
    "name": "ipython",
    "version": 3
   },
   "file_extension": ".py",
   "mimetype": "text/x-python",
   "name": "python",
   "nbconvert_exporter": "python",
   "pygments_lexer": "ipython3",
   "version": "3.8.2"
  }
 },
 "nbformat": 4,
 "nbformat_minor": 4
}
