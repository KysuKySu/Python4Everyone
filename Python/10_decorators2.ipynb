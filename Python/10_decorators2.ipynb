{
 "cells": [
  {
   "cell_type": "markdown",
   "metadata": {},
   "source": [
    "# Decorators - 2\n",
    "## Callbacks"
   ]
  },
  {
   "cell_type": "markdown",
   "metadata": {},
   "source": [
    "- Ở bài [9_Decorators](https://github.com/KysuKysu/Python4Everyone/blob/main/Python/09_decorators1.ipynb) cho phép chúng ta thực hiện các hoạt động tùy chỉnh trước và sau khi thực thi hàm chính, nhưng ở giữa thì sao? \n",
    "- Giả sử chúng ta muốn thực hiện một số phép toán theo điều kiện/tình huống hiện tại. Thay vì viết một loạt các câu lệnh if và làm cho các hàm của chúng ta trở nên cồng kềnh, chúng ta có thể sử dụng các lệnh `callbacks`!"
   ]
  },
  {
   "cell_type": "markdown",
   "metadata": {},
   "source": [
    "=> Vậy **callbacks** là việc xử lý điều kiện/tình huống bên trong hàm"
   ]
  },
  {
   "cell_type": "markdown",
   "metadata": {},
   "source": [
    "- Lệnh `callbacks` sẽ là các lớp có các hàm với tên khóa sẽ thực thi ở các khoảng thời gian khác nhau trong quá trình thực thi của hàm chính. \n",
    "- Tên hàm tùy thuộc vào chúng ta nhưng chúng ta cần gọi cùng một hàm `callbacks` trong hàm chính của chúng ta."
   ]
  },
  {
   "cell_type": "code",
   "execution_count": 1,
   "metadata": {},
   "outputs": [],
   "source": [
    "# Callback\n",
    "class x_tracker(object):\n",
    "    def __init__(self, x):\n",
    "        self.history = []\n",
    "    def at_start(self, x):\n",
    "        self.history.append(x)\n",
    "    def at_end(self, x):\n",
    "        self.history.append(x)"
   ]
  },
  {
   "cell_type": "markdown",
   "metadata": {},
   "source": [
    "- Chúng ta có thể chuyển bao nhiêu lệnh `callbacks` tùy thích và bởi vì chúng có các hàm được đặt tên thích hợp, chúng sẽ được gọi vào những thời điểm thích hợp."
   ]
  },
  {
   "cell_type": "code",
   "execution_count": 2,
   "metadata": {},
   "outputs": [],
   "source": [
    "def operations(x, callbacks=[]):\n",
    "    \"\"\"Basic operations.\"\"\"\n",
    "    for callback in callbacks:\n",
    "        callback.at_start(x)\n",
    "    x += 1\n",
    "    for callback in callbacks:\n",
    "        callback.at_end(x)\n",
    "    return x"
   ]
  },
  {
   "cell_type": "code",
   "execution_count": 3,
   "metadata": {},
   "outputs": [
    {
     "data": {
      "text/plain": [
       "2"
      ]
     },
     "execution_count": 3,
     "metadata": {},
     "output_type": "execute_result"
    }
   ],
   "source": [
    "x = 1\n",
    "tracker = x_tracker(x=x)\n",
    "operations(x=x, callbacks=[tracker])"
   ]
  },
  {
   "cell_type": "code",
   "execution_count": 4,
   "metadata": {},
   "outputs": [
    {
     "data": {
      "text/plain": [
       "[1, 2]"
      ]
     },
     "execution_count": 4,
     "metadata": {},
     "output_type": "execute_result"
    }
   ],
   "source": [
    "tracker.history"
   ]
  },
  {
   "cell_type": "markdown",
   "metadata": {},
   "source": [
    "## decorators + callbacks = powerful"
   ]
  },
  {
   "cell_type": "markdown",
   "metadata": {},
   "source": [
    "- Trước, trong và sau khi thực thi chức năng chính mà không làm tăng độ phức tạp của bài toán. Chúng ta sẽ sử dụng bộ đôi này để tạo các code training AI mạnh mẽ có khả năng tùy chỉnh cao trong các bài học tương lai."
   ]
  },
  {
   "cell_type": "code",
   "execution_count": 5,
   "metadata": {},
   "outputs": [],
   "source": [
    "from functools import wraps"
   ]
  },
  {
   "cell_type": "code",
   "execution_count": 6,
   "metadata": {},
   "outputs": [],
   "source": [
    "# Decorator\n",
    "def add(f):\n",
    "    @wraps(f)\n",
    "    def wrap(*args, **kwargs):\n",
    "        \"\"\"Wrapper function for @add.\"\"\"\n",
    "        x = kwargs.pop('x') # .get() if not altering x\n",
    "        x += 1 # executes before function f\n",
    "        x = f(*args, **kwargs, x=x)\n",
    "        # can do things post function f as well\n",
    "        return x\n",
    "    return wrap\n"
   ]
  },
  {
   "cell_type": "code",
   "execution_count": 7,
   "metadata": {},
   "outputs": [],
   "source": [
    "# Callback\n",
    "class x_tracker(object):\n",
    "    def __init__(self, x):\n",
    "        self.history = [x]\n",
    "    def at_start(self, x):\n",
    "        self.history.append(x)\n",
    "    def at_end(self, x):\n",
    "        self.history.append(x)"
   ]
  },
  {
   "cell_type": "code",
   "execution_count": 8,
   "metadata": {},
   "outputs": [],
   "source": [
    "# Main function\n",
    "@add\n",
    "def operations(x, callbacks=[]):\n",
    "    \"\"\"Basic operations.\"\"\"\n",
    "    for callback in callbacks:\n",
    "        callback.at_start(x)\n",
    "    x += 1\n",
    "    for callback in callbacks:\n",
    "        callback.at_end(x)\n",
    "    return x"
   ]
  },
  {
   "cell_type": "code",
   "execution_count": 9,
   "metadata": {},
   "outputs": [
    {
     "data": {
      "text/plain": [
       "3"
      ]
     },
     "execution_count": 9,
     "metadata": {},
     "output_type": "execute_result"
    }
   ],
   "source": [
    "x = 1\n",
    "tracker = x_tracker(x=x)\n",
    "operations(x=x, callbacks=[tracker])"
   ]
  },
  {
   "cell_type": "code",
   "execution_count": 10,
   "metadata": {},
   "outputs": [
    {
     "data": {
      "text/plain": [
       "[1, 2, 3]"
      ]
     },
     "execution_count": 10,
     "metadata": {},
     "output_type": "execute_result"
    }
   ],
   "source": [
    "tracker.history"
   ]
  }
 ],
 "metadata": {
  "kernelspec": {
   "display_name": "Python 3.8.2 32-bit",
   "language": "python",
   "name": "python38232bitd4b20f8fdfce4e079a1c6c2e2ad60f27"
  },
  "language_info": {
   "codemirror_mode": {
    "name": "ipython",
    "version": 3
   },
   "file_extension": ".py",
   "mimetype": "text/x-python",
   "name": "python",
   "nbconvert_exporter": "python",
   "pygments_lexer": "ipython3",
   "version": "3.8.2"
  }
 },
 "nbformat": 4,
 "nbformat_minor": 4
}
