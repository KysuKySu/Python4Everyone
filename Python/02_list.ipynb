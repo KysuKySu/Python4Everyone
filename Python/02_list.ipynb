{
 "cells": [
  {
   "cell_type": "markdown",
   "metadata": {},
   "source": [
    "# Lists"
   ]
  },
  {
   "cell_type": "markdown",
   "metadata": {},
   "source": [
    "List là một tập hợp các giá trị có thứ tự, hơi giống với một mảng trong nhiều ngôn ngữ lập trình khác nhưng linh hoạt hơn. \n",
    "\n",
    "Danh sách (List) được định nghĩa trong Python bằng cách đặt một chuỗi các đối tượng được phân tách bằng dấu phẩy trong dấu ngoặc vuông []. \n",
    "\n",
    "Một danh sách có thể bao gồm nhiều loại biến khác nhau. Dưới đây là danh sách với số nguyên, chuỗi và số float:"
   ]
  },
  {
   "cell_type": "code",
   "execution_count": 1,
   "metadata": {},
   "outputs": [
    {
     "name": "stdout",
     "output_type": "stream",
     "text": [
      "[3, 'hello', 1.2]\n"
     ]
    }
   ],
   "source": [
    "# Tạo 1 list\n",
    "x = [3, \"hello\", 1.2]\n",
    "print (x)"
   ]
  },
  {
   "cell_type": "code",
   "execution_count": 2,
   "metadata": {},
   "outputs": [
    {
     "data": {
      "text/plain": [
       "3"
      ]
     },
     "execution_count": 2,
     "metadata": {},
     "output_type": "execute_result"
    }
   ],
   "source": [
    "# lấy độ dài của list\n",
    "len(x)"
   ]
  },
  {
   "cell_type": "markdown",
   "metadata": {},
   "source": [
    "Chúng ta có thể thêm vào danh sách bằng cách sử dụng hàm append:"
   ]
  },
  {
   "cell_type": "code",
   "execution_count": 7,
   "metadata": {},
   "outputs": [
    {
     "name": "stdout",
     "output_type": "stream",
     "text": [
      "[3, 'bye', 1.2, 7, 7]\n",
      "5\n"
     ]
    }
   ],
   "source": [
    "# Thêm phần tử vào list\n",
    "x.append(7)\n",
    "print (x)\n",
    "print (len(x))"
   ]
  },
  {
   "cell_type": "markdown",
   "metadata": {},
   "source": [
    "list dễ dàng thay thế các phần tử hiện có:"
   ]
  },
  {
   "cell_type": "code",
   "execution_count": 4,
   "metadata": {},
   "outputs": [
    {
     "name": "stdout",
     "output_type": "stream",
     "text": [
      "[3, 'bye', 1.2, 7]\n"
     ]
    }
   ],
   "source": [
    "# thay đổi phần tử vị trí 1 từ 'hello' thành 'bye'\n",
    "x[1] = \"bye\"\n",
    "print (x)"
   ]
  },
  {
   "cell_type": "code",
   "execution_count": 5,
   "metadata": {},
   "outputs": [
    {
     "name": "stdout",
     "output_type": "stream",
     "text": [
      "[3, 'bye', 1.2, 7, 2.4, 'world']\n"
     ]
    }
   ],
   "source": [
    "# thực hiện các thao tác với danh sách:\n",
    "y = [2.4, \"world\"]\n",
    "z = x + y\n",
    "print (z)"
   ]
  },
  {
   "cell_type": "markdown",
   "metadata": {},
   "source": [
    "# Indexing"
   ]
  },
  {
   "cell_type": "markdown",
   "metadata": {},
   "source": [
    "Indexing và slicing từ danh sách cho phép ta truy xuất các giá trị cụ thể trong danh sách. \n",
    "\n",
    "Lưu ý rằng các chỉ số có thể dương (bắt đầu từ 0) hoặc âm (-1 trở xuống, trong đó -1 là mục cuối cùng trong danh sách).\n",
    "\n",
    "![](./img/indexing.png)"
   ]
  },
  {
   "cell_type": "code",
   "execution_count": 10,
   "metadata": {},
   "outputs": [
    {
     "name": "stdout",
     "output_type": "stream",
     "text": [
      "x[0]:  3\n",
      "x[1]:  hello\n",
      "x[-1]:  1.2\n",
      "x[-2]:  hello\n"
     ]
    }
   ],
   "source": [
    "# Lấy giá trị theo index\n",
    "x = [3, \"hello\", 1.2]\n",
    "print (\"x[0]: \", x[0])\n",
    "print (\"x[1]: \", x[1])\n",
    "print (\"x[-1]: \", x[-1]) # lấy phần tử cuối cùng (cách này dùng nhiều trong thực tế)\n",
    "print (\"x[-2]: \", x[-2]) # vị trí kề cuối"
   ]
  },
  {
   "cell_type": "code",
   "execution_count": 11,
   "metadata": {},
   "outputs": [
    {
     "name": "stdout",
     "output_type": "stream",
     "text": [
      "x[:]:  [3, 'hello', 1.2]\n",
      "x[1:]:  ['hello', 1.2]\n",
      "x[1:2]:  ['hello']\n",
      "x[:-1]:  [3, 'hello']\n"
     ]
    }
   ],
   "source": [
    "# lấy giá trị theo slicing\n",
    "print (\"x[:]: \", x[:]) # tất cả phần tử\n",
    "print (\"x[1:]: \", x[1:]) # lấy từ index 1 đến hết\n",
    "print (\"x[1:2]: \", x[1:2]) # index 1 đên index 2 (không bao gồm index 2)\n",
    "print (\"x[:-1]: \", x[:-1]) # index 0 đến index cuối cùng (không bao gồm index cuối)"
   ]
  },
  {
   "cell_type": "markdown",
   "metadata": {},
   "source": [
    "![](./img/getvalue.png)"
   ]
  }
 ],
 "metadata": {
  "kernelspec": {
   "display_name": "Python 3.8.2 32-bit",
   "language": "python",
   "name": "python38232bitd4b20f8fdfce4e079a1c6c2e2ad60f27"
  },
  "language_info": {
   "codemirror_mode": {
    "name": "ipython",
    "version": 3
   },
   "file_extension": ".py",
   "mimetype": "text/x-python",
   "name": "python",
   "nbconvert_exporter": "python",
   "pygments_lexer": "ipython3",
   "version": "3.8.2"
  }
 },
 "nbformat": 4,
 "nbformat_minor": 4
}
